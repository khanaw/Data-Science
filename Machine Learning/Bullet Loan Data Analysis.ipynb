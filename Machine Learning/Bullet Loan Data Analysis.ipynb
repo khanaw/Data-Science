{
 "cells": [
  {
   "cell_type": "markdown",
   "metadata": {},
   "source": [
    "# Bullet Loan Analysis\n",
    "\n",
    "This is an analysis of the bullet loan data provided here https://www.kaggle.com/zhijinzhai/loandata \n",
    "\n",
    "We will perform some Exploratory Data Analysis and see if we can fit a model to predict loan repayment. \n",
    "We will compare Logistic Regressions to Random Forrest and Decision Trees. \n",
    "\n",
    "\n",
    "\n",
    "From the website we can obtain the context:\n",
    "\n",
    "\"This data set includes customers who have paid off their loans, who have been past due and put into collection without paying back their loan and interests, and who have paid off only after they were put in collection. The financial product is a bullet loan that customers should pay off all of their loan debt in just one time by the end of the term, instead of an installment schedule. Of course, they could pay off earlier than their pay schedule\"\n",
    "\n",
    "And the content of the data itself:\n",
    "\"Loan_id A unique loan number assigned to each loan customers\n",
    "\n",
    "Loan_status Whether a loan is paid off, in collection, new customer yet to payoff, or paid off after the collection efforts\n",
    "\n",
    "Principal Basic principal loan amount at the origination\n",
    "\n",
    "terms Can be weekly (7 days), biweekly, and monthly payoff schedule\n",
    "\n",
    "Effective_date When the loan got originated and took effects\n",
    "\n",
    "Due_date Since it’s one-time payoff schedule, each loan has one single due date\n",
    "\n",
    "Paidoff_time The actual time a customer pays off the loan\n",
    "\n",
    "Pastdue_days How many days a loan has been past due\"\n",
    "\n"
   ]
  },
  {
   "cell_type": "markdown",
   "metadata": {},
   "source": [
    "## Import our modules"
   ]
  },
  {
   "cell_type": "code",
   "execution_count": 52,
   "metadata": {
    "collapsed": true
   },
   "outputs": [],
   "source": [
    "import numpy as np\n",
    "import pandas as pd\n",
    "import seaborn as sns\n",
    "import matplotlib.pyplot as plt\n",
    "import datetime\n",
    "import os\n",
    "\n",
    "%matplotlib inline"
   ]
  },
  {
   "cell_type": "markdown",
   "metadata": {},
   "source": [
    "## Exploratory Data Analysis"
   ]
  },
  {
   "cell_type": "code",
   "execution_count": 2,
   "metadata": {
    "collapsed": true
   },
   "outputs": [],
   "source": [
    "loandf=pd.read_csv('../../../Downloads/Loan payments data.csv')"
   ]
  },
  {
   "cell_type": "code",
   "execution_count": 3,
   "metadata": {},
   "outputs": [
    {
     "data": {
      "text/html": [
       "<div>\n",
       "<style scoped>\n",
       "    .dataframe tbody tr th:only-of-type {\n",
       "        vertical-align: middle;\n",
       "    }\n",
       "\n",
       "    .dataframe tbody tr th {\n",
       "        vertical-align: top;\n",
       "    }\n",
       "\n",
       "    .dataframe thead th {\n",
       "        text-align: right;\n",
       "    }\n",
       "</style>\n",
       "<table border=\"1\" class=\"dataframe\">\n",
       "  <thead>\n",
       "    <tr style=\"text-align: right;\">\n",
       "      <th></th>\n",
       "      <th>Loan_ID</th>\n",
       "      <th>loan_status</th>\n",
       "      <th>Principal</th>\n",
       "      <th>terms</th>\n",
       "      <th>effective_date</th>\n",
       "      <th>due_date</th>\n",
       "      <th>paid_off_time</th>\n",
       "      <th>past_due_days</th>\n",
       "      <th>age</th>\n",
       "      <th>education</th>\n",
       "      <th>Gender</th>\n",
       "    </tr>\n",
       "  </thead>\n",
       "  <tbody>\n",
       "    <tr>\n",
       "      <th>0</th>\n",
       "      <td>xqd20166231</td>\n",
       "      <td>PAIDOFF</td>\n",
       "      <td>1000</td>\n",
       "      <td>30</td>\n",
       "      <td>9/8/2016</td>\n",
       "      <td>10/7/2016</td>\n",
       "      <td>9/14/2016 19:31</td>\n",
       "      <td>NaN</td>\n",
       "      <td>45</td>\n",
       "      <td>High School or Below</td>\n",
       "      <td>male</td>\n",
       "    </tr>\n",
       "    <tr>\n",
       "      <th>1</th>\n",
       "      <td>xqd20168902</td>\n",
       "      <td>PAIDOFF</td>\n",
       "      <td>1000</td>\n",
       "      <td>30</td>\n",
       "      <td>9/8/2016</td>\n",
       "      <td>10/7/2016</td>\n",
       "      <td>10/7/2016 9:00</td>\n",
       "      <td>NaN</td>\n",
       "      <td>50</td>\n",
       "      <td>Bechalor</td>\n",
       "      <td>female</td>\n",
       "    </tr>\n",
       "    <tr>\n",
       "      <th>2</th>\n",
       "      <td>xqd20160003</td>\n",
       "      <td>PAIDOFF</td>\n",
       "      <td>1000</td>\n",
       "      <td>30</td>\n",
       "      <td>9/8/2016</td>\n",
       "      <td>10/7/2016</td>\n",
       "      <td>9/25/2016 16:58</td>\n",
       "      <td>NaN</td>\n",
       "      <td>33</td>\n",
       "      <td>Bechalor</td>\n",
       "      <td>female</td>\n",
       "    </tr>\n",
       "    <tr>\n",
       "      <th>3</th>\n",
       "      <td>xqd20160004</td>\n",
       "      <td>PAIDOFF</td>\n",
       "      <td>1000</td>\n",
       "      <td>15</td>\n",
       "      <td>9/8/2016</td>\n",
       "      <td>9/22/2016</td>\n",
       "      <td>9/22/2016 20:00</td>\n",
       "      <td>NaN</td>\n",
       "      <td>27</td>\n",
       "      <td>college</td>\n",
       "      <td>male</td>\n",
       "    </tr>\n",
       "    <tr>\n",
       "      <th>4</th>\n",
       "      <td>xqd20160005</td>\n",
       "      <td>PAIDOFF</td>\n",
       "      <td>1000</td>\n",
       "      <td>30</td>\n",
       "      <td>9/9/2016</td>\n",
       "      <td>10/8/2016</td>\n",
       "      <td>9/23/2016 21:36</td>\n",
       "      <td>NaN</td>\n",
       "      <td>28</td>\n",
       "      <td>college</td>\n",
       "      <td>female</td>\n",
       "    </tr>\n",
       "  </tbody>\n",
       "</table>\n",
       "</div>"
      ],
      "text/plain": [
       "       Loan_ID loan_status  Principal  terms effective_date   due_date  \\\n",
       "0  xqd20166231     PAIDOFF       1000     30       9/8/2016  10/7/2016   \n",
       "1  xqd20168902     PAIDOFF       1000     30       9/8/2016  10/7/2016   \n",
       "2  xqd20160003     PAIDOFF       1000     30       9/8/2016  10/7/2016   \n",
       "3  xqd20160004     PAIDOFF       1000     15       9/8/2016  9/22/2016   \n",
       "4  xqd20160005     PAIDOFF       1000     30       9/9/2016  10/8/2016   \n",
       "\n",
       "     paid_off_time  past_due_days  age             education  Gender  \n",
       "0  9/14/2016 19:31            NaN   45  High School or Below    male  \n",
       "1   10/7/2016 9:00            NaN   50              Bechalor  female  \n",
       "2  9/25/2016 16:58            NaN   33              Bechalor  female  \n",
       "3  9/22/2016 20:00            NaN   27               college    male  \n",
       "4  9/23/2016 21:36            NaN   28               college  female  "
      ]
     },
     "execution_count": 3,
     "metadata": {},
     "output_type": "execute_result"
    }
   ],
   "source": [
    "loandf.head()"
   ]
  },
  {
   "cell_type": "code",
   "execution_count": 4,
   "metadata": {},
   "outputs": [
    {
     "name": "stdout",
     "output_type": "stream",
     "text": [
      "<class 'pandas.core.frame.DataFrame'>\n",
      "RangeIndex: 500 entries, 0 to 499\n",
      "Data columns (total 11 columns):\n",
      "Loan_ID           500 non-null object\n",
      "loan_status       500 non-null object\n",
      "Principal         500 non-null int64\n",
      "terms             500 non-null int64\n",
      "effective_date    500 non-null object\n",
      "due_date          500 non-null object\n",
      "paid_off_time     400 non-null object\n",
      "past_due_days     200 non-null float64\n",
      "age               500 non-null int64\n",
      "education         500 non-null object\n",
      "Gender            500 non-null object\n",
      "dtypes: float64(1), int64(3), object(7)\n",
      "memory usage: 43.0+ KB\n"
     ]
    }
   ],
   "source": [
    "loandf.info()"
   ]
  },
  {
   "cell_type": "markdown",
   "metadata": {},
   "source": [
    "Looking at the above their is missing data in paid_off_time and in past_due_days. Past_due_days is missing alot so we may remove the column entirely, but we can see from the loan_status that it makes sense that a PAIDOFF loan would not be past due."
   ]
  },
  {
   "cell_type": "markdown",
   "metadata": {},
   "source": [
    "### EDA by columns\n",
    "\n",
    "#### 1.Loan_ID \n",
    "Loan_ID is just an identifier for each loan, and we will drop it from modeling\n",
    "\n",
    "#### 2. loan_status\n",
    "\n",
    "This our target variable. Explore the variable."
   ]
  },
  {
   "cell_type": "code",
   "execution_count": 5,
   "metadata": {},
   "outputs": [
    {
     "data": {
      "text/plain": [
       "array(['PAIDOFF', 'COLLECTION', 'COLLECTION_PAIDOFF'], dtype=object)"
      ]
     },
     "execution_count": 5,
     "metadata": {},
     "output_type": "execute_result"
    }
   ],
   "source": [
    "loandf['loan_status'].unique()"
   ]
  },
  {
   "cell_type": "code",
   "execution_count": 6,
   "metadata": {},
   "outputs": [
    {
     "data": {
      "text/plain": [
       "<matplotlib.axes._subplots.AxesSubplot at 0x7f4a8c2a08d0>"
      ]
     },
     "execution_count": 6,
     "metadata": {},
     "output_type": "execute_result"
    },
    {
     "data": {
      "image/png": "[encoded data removed]",
      "text/plain": [
       "<matplotlib.figure.Figure at 0x7f4a8c807390>"
      ]
     },
     "metadata": {},
     "output_type": "display_data"
    }
   ],
   "source": [
    "sns.set_style('darkgrid')\n",
    "sns.countplot(loandf['loan_status'], palette='Spectral')"
   ]
  },
  {
   "cell_type": "markdown",
   "metadata": {},
   "source": [
    "We can see that there is an approximate 3:1:1 ratio between paidoff, collection, and collection_paidoff\n",
    "\n",
    "#### 3.Principal -orginal loan amount"
   ]
  },
  {
   "cell_type": "code",
   "execution_count": 7,
   "metadata": {},
   "outputs": [
    {
     "data": {
      "text/html": [
       "<div>\n",
       "<style scoped>\n",
       "    .dataframe tbody tr th:only-of-type {\n",
       "        vertical-align: middle;\n",
       "    }\n",
       "\n",
       "    .dataframe tbody tr th {\n",
       "        vertical-align: top;\n",
       "    }\n",
       "\n",
       "    .dataframe thead tr th {\n",
       "        text-align: left;\n",
       "    }\n",
       "\n",
       "    .dataframe thead tr:last-of-type th {\n",
       "        text-align: right;\n",
       "    }\n",
       "</style>\n",
       "<table border=\"1\" class=\"dataframe\">\n",
       "  <thead>\n",
       "    <tr>\n",
       "      <th></th>\n",
       "      <th></th>\n",
       "      <th>Loan_ID</th>\n",
       "    </tr>\n",
       "    <tr>\n",
       "      <th></th>\n",
       "      <th></th>\n",
       "      <th>count</th>\n",
       "    </tr>\n",
       "    <tr>\n",
       "      <th>loan_status</th>\n",
       "      <th>Principal</th>\n",
       "      <th></th>\n",
       "    </tr>\n",
       "  </thead>\n",
       "  <tbody>\n",
       "    <tr>\n",
       "      <th rowspan=\"2\" valign=\"top\">COLLECTION</th>\n",
       "      <th>800</th>\n",
       "      <td>23</td>\n",
       "    </tr>\n",
       "    <tr>\n",
       "      <th>1000</th>\n",
       "      <td>77</td>\n",
       "    </tr>\n",
       "    <tr>\n",
       "      <th rowspan=\"3\" valign=\"top\">COLLECTION_PAIDOFF</th>\n",
       "      <th>500</th>\n",
       "      <td>1</td>\n",
       "    </tr>\n",
       "    <tr>\n",
       "      <th>800</th>\n",
       "      <td>19</td>\n",
       "    </tr>\n",
       "    <tr>\n",
       "      <th>1000</th>\n",
       "      <td>80</td>\n",
       "    </tr>\n",
       "    <tr>\n",
       "      <th rowspan=\"6\" valign=\"top\">PAIDOFF</th>\n",
       "      <th>300</th>\n",
       "      <td>6</td>\n",
       "    </tr>\n",
       "    <tr>\n",
       "      <th>500</th>\n",
       "      <td>2</td>\n",
       "    </tr>\n",
       "    <tr>\n",
       "      <th>700</th>\n",
       "      <td>1</td>\n",
       "    </tr>\n",
       "    <tr>\n",
       "      <th>800</th>\n",
       "      <td>69</td>\n",
       "    </tr>\n",
       "    <tr>\n",
       "      <th>900</th>\n",
       "      <td>2</td>\n",
       "    </tr>\n",
       "    <tr>\n",
       "      <th>1000</th>\n",
       "      <td>220</td>\n",
       "    </tr>\n",
       "  </tbody>\n",
       "</table>\n",
       "</div>"
      ],
      "text/plain": [
       "                             Loan_ID\n",
       "                               count\n",
       "loan_status        Principal        \n",
       "COLLECTION         800            23\n",
       "                   1000           77\n",
       "COLLECTION_PAIDOFF 500             1\n",
       "                   800            19\n",
       "                   1000           80\n",
       "PAIDOFF            300             6\n",
       "                   500             2\n",
       "                   700             1\n",
       "                   800            69\n",
       "                   900             2\n",
       "                   1000          220"
      ]
     },
     "execution_count": 7,
     "metadata": {},
     "output_type": "execute_result"
    }
   ],
   "source": [
    "loandf[['loan_status','Principal','Loan_ID']].groupby(['loan_status','Principal']).agg(['count'])"
   ]
  },
  {
   "cell_type": "code",
   "execution_count": 8,
   "metadata": {
    "scrolled": false
   },
   "outputs": [
    {
     "data": {
      "text/plain": [
       "<matplotlib.axes._subplots.AxesSubplot at 0x7f4ab81e1eb8>"
      ]
     },
     "execution_count": 8,
     "metadata": {},
     "output_type": "execute_result"
    },
    {
     "data": {
      "image/png": "[encoded data removed]",
      "text/plain": [
       "<matplotlib.figure.Figure at 0x7f4ab81e1f98>"
      ]
     },
     "metadata": {},
     "output_type": "display_data"
    }
   ],
   "source": [
    "fig=plt.figure(figsize=(12,6))\n",
    "sns.distplot(loandf['Principal'], bins=40)"
   ]
  },
  {
   "cell_type": "markdown",
   "metadata": {},
   "source": [
    "we can see that most of the principal amount is at 1000 USD\n",
    "\n",
    "#### 4. Terms- payoff schedule\n",
    "\n"
   ]
  },
  {
   "cell_type": "code",
   "execution_count": 9,
   "metadata": {},
   "outputs": [
    {
     "data": {
      "text/plain": [
       "Text(0.5,1,'Term Counts')"
      ]
     },
     "execution_count": 9,
     "metadata": {},
     "output_type": "execute_result"
    },
    {
     "data": {
      "image/png": "[encoded data removed]",
      "text/plain": [
       "<matplotlib.figure.Figure at 0x7f4a84d45e80>"
      ]
     },
     "metadata": {},
     "output_type": "display_data"
    }
   ],
   "source": [
    "ax= sns.countplot(loandf['terms'], palette='Spectral')\n",
    "ax.set_title('Term Counts')"
   ]
  },
  {
   "cell_type": "code",
   "execution_count": 10,
   "metadata": {},
   "outputs": [
    {
     "data": {
      "text/plain": [
       "<matplotlib.legend.Legend at 0x7f4a84cf55c0>"
      ]
     },
     "execution_count": 10,
     "metadata": {},
     "output_type": "execute_result"
    },
    {
     "data": {
      "image/png": "[encoded data removed]",
      "text/plain": [
       "<matplotlib.figure.Figure at 0x7f4a84cf5940>"
      ]
     },
     "metadata": {},
     "output_type": "display_data"
    }
   ],
   "source": [
    "fig, ax=plt.subplots(figsize=(12,4))\n",
    "sns.countplot(x='terms', hue='loan_status', data=loandf, palette='Spectral')\n",
    "ax.set_title('Term counts by Loan Status')\n",
    "ax.legend(loc='upper left')"
   ]
  },
  {
   "cell_type": "markdown",
   "metadata": {},
   "source": [
    "#### Lets compute the  time in days to pay off the loan"
   ]
  },
  {
   "cell_type": "code",
   "execution_count": 11,
   "metadata": {
    "collapsed": true
   },
   "outputs": [],
   "source": [
    "loandf['Days to pay']= (pd.DatetimeIndex(loandf['paid_off_time']).normalize()\n",
    "                        -pd.DatetimeIndex(loandf['effective_date']).normalize())/np.timedelta64(1,'D')"
   ]
  },
  {
   "cell_type": "code",
   "execution_count": 33,
   "metadata": {
    "collapsed": true
   },
   "outputs": [],
   "source": [
    "loandf['paid_off_date'] = pd.DatetimeIndex(loandf['paid_off_time']).normalize()"
   ]
  },
  {
   "cell_type": "code",
   "execution_count": 12,
   "metadata": {},
   "outputs": [
    {
     "data": {
      "text/plain": [
       "[Text(0,0,'0.0'),\n",
       " Text(0,0,'1.0'),\n",
       " Text(0,0,'2.0'),\n",
       " Text(0,0,'3.0'),\n",
       " Text(0,0,'4.0'),\n",
       " Text(0,0,'5.0'),\n",
       " Text(0,0,'6.0'),\n",
       " Text(0,0,'7.0'),\n",
       " Text(0,0,'8.0'),\n",
       " Text(0,0,'9.0'),\n",
       " Text(0,0,'10.0'),\n",
       " Text(0,0,'11.0'),\n",
       " Text(0,0,'12.0'),\n",
       " Text(0,0,'13.0'),\n",
       " Text(0,0,'14.0'),\n",
       " Text(0,0,'15.0'),\n",
       " Text(0,0,'16.0'),\n",
       " Text(0,0,'17.0'),\n",
       " Text(0,0,'18.0'),\n",
       " Text(0,0,'19.0'),\n",
       " Text(0,0,'20.0'),\n",
       " Text(0,0,'21.0'),\n",
       " Text(0,0,'22.0'),\n",
       " Text(0,0,'23.0'),\n",
       " Text(0,0,'24.0'),\n",
       " Text(0,0,'25.0'),\n",
       " Text(0,0,'26.0'),\n",
       " Text(0,0,'27.0'),\n",
       " Text(0,0,'28.0'),\n",
       " Text(0,0,'29.0'),\n",
       " Text(0,0,'30.0'),\n",
       " Text(0,0,'31.0'),\n",
       " Text(0,0,'32.0'),\n",
       " Text(0,0,'33.0'),\n",
       " Text(0,0,'35.0'),\n",
       " Text(0,0,'36.0'),\n",
       " Text(0,0,'37.0'),\n",
       " Text(0,0,'38.0'),\n",
       " Text(0,0,'41.0'),\n",
       " Text(0,0,'43.0'),\n",
       " Text(0,0,'44.0'),\n",
       " Text(0,0,'45.0'),\n",
       " Text(0,0,'48.0'),\n",
       " Text(0,0,'49.0'),\n",
       " Text(0,0,'52.0'),\n",
       " Text(0,0,'53.0'),\n",
       " Text(0,0,'54.0'),\n",
       " Text(0,0,'56.0'),\n",
       " Text(0,0,'57.0'),\n",
       " Text(0,0,'58.0'),\n",
       " Text(0,0,'59.0'),\n",
       " Text(0,0,'60.0'),\n",
       " Text(0,0,'64.0'),\n",
       " Text(0,0,'65.0'),\n",
       " Text(0,0,'66.0'),\n",
       " Text(0,0,'67.0'),\n",
       " Text(0,0,'70.0'),\n",
       " Text(0,0,'72.0'),\n",
       " Text(0,0,'73.0'),\n",
       " Text(0,0,'81.0')]"
      ]
     },
     "execution_count": 12,
     "metadata": {},
     "output_type": "execute_result"
    },
    {
     "data": {
      "image/png": "[encoded data removed]",
      "text/plain": [
       "<matplotlib.figure.Figure at 0x7f4a84c6fcc0>"
      ]
     },
     "metadata": {},
     "output_type": "display_data"
    }
   ],
   "source": [
    "fig, ax=plt.subplots(figsize=(15,6))\n",
    "ax=sns.countplot(x='Days to pay',hue='terms',data=loandf)\n",
    "ax.set_xticklabels(ax.get_xticklabels(),rotation=90)"
   ]
  },
  {
   "cell_type": "markdown",
   "metadata": {},
   "source": [
    "Lets just look at paidoff loans"
   ]
  },
  {
   "cell_type": "code",
   "execution_count": 13,
   "metadata": {},
   "outputs": [
    {
     "data": {
      "text/plain": [
       "[Text(0,0,'0.0'),\n",
       " Text(0,0,'1.0'),\n",
       " Text(0,0,'2.0'),\n",
       " Text(0,0,'3.0'),\n",
       " Text(0,0,'4.0'),\n",
       " Text(0,0,'5.0'),\n",
       " Text(0,0,'6.0'),\n",
       " Text(0,0,'7.0'),\n",
       " Text(0,0,'8.0'),\n",
       " Text(0,0,'9.0'),\n",
       " Text(0,0,'10.0'),\n",
       " Text(0,0,'11.0'),\n",
       " Text(0,0,'12.0'),\n",
       " Text(0,0,'13.0'),\n",
       " Text(0,0,'14.0'),\n",
       " Text(0,0,'15.0'),\n",
       " Text(0,0,'16.0'),\n",
       " Text(0,0,'17.0'),\n",
       " Text(0,0,'18.0'),\n",
       " Text(0,0,'19.0'),\n",
       " Text(0,0,'20.0'),\n",
       " Text(0,0,'21.0'),\n",
       " Text(0,0,'22.0'),\n",
       " Text(0,0,'23.0'),\n",
       " Text(0,0,'24.0'),\n",
       " Text(0,0,'25.0'),\n",
       " Text(0,0,'26.0'),\n",
       " Text(0,0,'27.0'),\n",
       " Text(0,0,'28.0'),\n",
       " Text(0,0,'29.0'),\n",
       " Text(0,0,'30.0'),\n",
       " Text(0,0,'44.0'),\n",
       " Text(0,0,'59.0')]"
      ]
     },
     "execution_count": 13,
     "metadata": {},
     "output_type": "execute_result"
    },
    {
     "data": {
      "image/png": "[encoded data removed]",
      "text/plain": [
       "<matplotlib.figure.Figure at 0x7f4a8c2c8c50>"
      ]
     },
     "metadata": {},
     "output_type": "display_data"
    }
   ],
   "source": [
    "fig, ax=plt.subplots(figsize=(15,6))\n",
    "ax=sns.countplot(x='Days to pay', hue='terms', data=loandf[loandf['loan_status']== 'PAIDOFF'])\n",
    "ax.set_xticklabels(ax.get_xticklabels(),rotation=90)"
   ]
  },
  {
   "cell_type": "code",
   "execution_count": 16,
   "metadata": {},
   "outputs": [
    {
     "name": "stdout",
     "output_type": "stream",
     "text": [
      "{}: Incorrect status: {} observations\n",
      "    loan_status  terms effective_date    due_date     paid_off_time\n",
      "85      PAIDOFF     30      9/11/2016   11/9/2016    11/9/2016 9:00\n",
      "111     PAIDOFF     30      9/11/2016   11/9/2016    11/9/2016 9:00\n",
      "122     PAIDOFF     15      9/11/2016  10/25/2016   10/25/2016 9:00\n",
      "137     PAIDOFF     15      9/11/2016  10/25/2016   10/25/2016 9:00\n",
      "146     PAIDOFF     30      9/11/2016   11/9/2016   11/9/2016 23:00\n",
      "150     PAIDOFF     15      9/12/2016  10/26/2016   10/26/2016 9:00\n",
      "165     PAIDOFF     30      9/12/2016  11/10/2016  11/10/2016 16:00\n",
      "196     PAIDOFF     30      9/12/2016  11/10/2016  11/10/2016 13:00\n",
      "206     PAIDOFF     30      9/12/2016  11/10/2016  11/10/2016 13:00\n",
      "215     PAIDOFF     30      9/12/2016  11/10/2016  11/10/2016 16:00\n",
      "222     PAIDOFF     30      9/12/2016  11/10/2016  11/10/2016 13:00\n",
      "230     PAIDOFF     15      9/12/2016  10/26/2016   10/26/2016 9:00\n",
      "272     PAIDOFF     30      9/14/2016  11/12/2016   11/12/2016 9:00\n",
      "285     PAIDOFF     30      9/14/2016  11/12/2016   11/12/2016 9:00\n"
     ]
    }
   ],
   "source": [
    "tmp = loandf.loc[(loandf['Days to pay'] > 30) & (loandf['loan_status'] == 'PAIDOFF')]\n",
    "print(\"{}: Incorrect status: {} observations\")\n",
    "print(tmp[['loan_status', 'terms', 'effective_date', 'due_date', 'paid_off_time']])"
   ]
  },
  {
   "cell_type": "markdown",
   "metadata": {},
   "source": [
    "This is peculiar, the effective dates and terms persiod dont add up to due date of the loan application. Will ignore this in ML.\n",
    "\n",
    "#### Lets explore the demographic"
   ]
  },
  {
   "cell_type": "code",
   "execution_count": 20,
   "metadata": {},
   "outputs": [
    {
     "data": {
      "text/plain": [
       "Text(0.5,1,'Education of the gender')"
      ]
     },
     "execution_count": 20,
     "metadata": {},
     "output_type": "execute_result"
    },
    {
     "data": {
      "image/png": "[encoded data removed]",
      "text/plain": [
       "<matplotlib.figure.Figure at 0x7f4a83e80048>"
      ]
     },
     "metadata": {},
     "output_type": "display_data"
    }
   ],
   "source": [
    "fig, axs=plt.subplots(3,2, figsize=(20,15))\n",
    "\n",
    "sns.distplot(loandf['age'], ax=axs[0][0])\n",
    "axs[0][0].set_title(\"Total age distribution across dataset\")\n",
    "\n",
    "sns.boxplot(x='loan_status', y='age', data=loandf, ax=axs[0][1])\n",
    "axs[0][1].set_title(\"Age distribution by loan status\")\n",
    "\n",
    "sns.countplot(x='education', data=loandf, ax=axs[1][0])\n",
    "axs[1][0].set_title(\"Education count\")\n",
    "\n",
    "\n",
    "sns.countplot(x='education', data=loandf, hue='loan_status', ax=axs[1][1])\n",
    "axs[1][1].set_title(\"Education by loan status\")\n",
    "axs[1][1].legend(loc='upper right')\n",
    "\n",
    "\n",
    "sns.countplot(x='Gender', data=loandf, ax=axs[2][0])\n",
    "axs[2][0].set_title(\" Gender\")\n",
    "\n",
    "sns.countplot(x='Gender', data=loandf, hue='education', ax=axs[2][1])\n",
    "axs[2][1].set_title(\"Education of the gender\")"
   ]
  },
  {
   "cell_type": "markdown",
   "metadata": {},
   "source": [
    "Lets look at gender+education impact on loan status"
   ]
  },
  {
   "cell_type": "code",
   "execution_count": 21,
   "metadata": {},
   "outputs": [
    {
     "data": {
      "text/html": [
       "<div>\n",
       "<style scoped>\n",
       "    .dataframe tbody tr th:only-of-type {\n",
       "        vertical-align: middle;\n",
       "    }\n",
       "\n",
       "    .dataframe tbody tr th {\n",
       "        vertical-align: top;\n",
       "    }\n",
       "\n",
       "    .dataframe thead th {\n",
       "        text-align: right;\n",
       "    }\n",
       "</style>\n",
       "<table border=\"1\" class=\"dataframe\">\n",
       "  <thead>\n",
       "    <tr style=\"text-align: right;\">\n",
       "      <th>col_0</th>\n",
       "      <th>female_Bechalor</th>\n",
       "      <th>female_High School or Below</th>\n",
       "      <th>female_college</th>\n",
       "      <th>male_Bechalor</th>\n",
       "      <th>male_High School or Below</th>\n",
       "      <th>male_Master or Above</th>\n",
       "      <th>male_college</th>\n",
       "      <th>All</th>\n",
       "    </tr>\n",
       "    <tr>\n",
       "      <th>loan_status</th>\n",
       "      <th></th>\n",
       "      <th></th>\n",
       "      <th></th>\n",
       "      <th></th>\n",
       "      <th></th>\n",
       "      <th></th>\n",
       "      <th></th>\n",
       "      <th></th>\n",
       "    </tr>\n",
       "  </thead>\n",
       "  <tbody>\n",
       "    <tr>\n",
       "      <th>COLLECTION</th>\n",
       "      <td>0</td>\n",
       "      <td>7</td>\n",
       "      <td>3</td>\n",
       "      <td>11</td>\n",
       "      <td>42</td>\n",
       "      <td>1</td>\n",
       "      <td>36</td>\n",
       "      <td>100</td>\n",
       "    </tr>\n",
       "    <tr>\n",
       "      <th>COLLECTION_PAIDOFF</th>\n",
       "      <td>1</td>\n",
       "      <td>5</td>\n",
       "      <td>8</td>\n",
       "      <td>14</td>\n",
       "      <td>32</td>\n",
       "      <td>0</td>\n",
       "      <td>40</td>\n",
       "      <td>100</td>\n",
       "    </tr>\n",
       "    <tr>\n",
       "      <th>PAIDOFF</th>\n",
       "      <td>12</td>\n",
       "      <td>19</td>\n",
       "      <td>22</td>\n",
       "      <td>29</td>\n",
       "      <td>104</td>\n",
       "      <td>3</td>\n",
       "      <td>111</td>\n",
       "      <td>300</td>\n",
       "    </tr>\n",
       "    <tr>\n",
       "      <th>All</th>\n",
       "      <td>13</td>\n",
       "      <td>31</td>\n",
       "      <td>33</td>\n",
       "      <td>54</td>\n",
       "      <td>178</td>\n",
       "      <td>4</td>\n",
       "      <td>187</td>\n",
       "      <td>500</td>\n",
       "    </tr>\n",
       "  </tbody>\n",
       "</table>\n",
       "</div>"
      ],
      "text/plain": [
       "col_0               female_Bechalor  female_High School or Below  \\\n",
       "loan_status                                                        \n",
       "COLLECTION                        0                            7   \n",
       "COLLECTION_PAIDOFF                1                            5   \n",
       "PAIDOFF                          12                           19   \n",
       "All                              13                           31   \n",
       "\n",
       "col_0               female_college  male_Bechalor  male_High School or Below  \\\n",
       "loan_status                                                                    \n",
       "COLLECTION                       3             11                         42   \n",
       "COLLECTION_PAIDOFF               8             14                         32   \n",
       "PAIDOFF                         22             29                        104   \n",
       "All                             33             54                        178   \n",
       "\n",
       "col_0               male_Master or Above  male_college  All  \n",
       "loan_status                                                  \n",
       "COLLECTION                             1            36  100  \n",
       "COLLECTION_PAIDOFF                     0            40  100  \n",
       "PAIDOFF                                3           111  300  \n",
       "All                                    4           187  500  "
      ]
     },
     "execution_count": 21,
     "metadata": {},
     "output_type": "execute_result"
    }
   ],
   "source": [
    "pd.crosstab(loandf['loan_status'], loandf['Gender'] + \"_\" + loandf['education'], margins=True)"
   ]
  },
  {
   "cell_type": "code",
   "execution_count": 22,
   "metadata": {},
   "outputs": [
    {
     "data": {
      "text/html": [
       "<div>\n",
       "<style scoped>\n",
       "    .dataframe tbody tr th:only-of-type {\n",
       "        vertical-align: middle;\n",
       "    }\n",
       "\n",
       "    .dataframe tbody tr th {\n",
       "        vertical-align: top;\n",
       "    }\n",
       "\n",
       "    .dataframe thead th {\n",
       "        text-align: right;\n",
       "    }\n",
       "</style>\n",
       "<table border=\"1\" class=\"dataframe\">\n",
       "  <thead>\n",
       "    <tr style=\"text-align: right;\">\n",
       "      <th>col_0</th>\n",
       "      <th>female_Bechalor</th>\n",
       "      <th>female_High School or Below</th>\n",
       "      <th>female_college</th>\n",
       "      <th>male_Bechalor</th>\n",
       "      <th>male_High School or Below</th>\n",
       "      <th>male_Master or Above</th>\n",
       "      <th>male_college</th>\n",
       "      <th>All</th>\n",
       "    </tr>\n",
       "    <tr>\n",
       "      <th>loan_status</th>\n",
       "      <th></th>\n",
       "      <th></th>\n",
       "      <th></th>\n",
       "      <th></th>\n",
       "      <th></th>\n",
       "      <th></th>\n",
       "      <th></th>\n",
       "      <th></th>\n",
       "    </tr>\n",
       "  </thead>\n",
       "  <tbody>\n",
       "    <tr>\n",
       "      <th>COLLECTION</th>\n",
       "      <td>0.000</td>\n",
       "      <td>0.014</td>\n",
       "      <td>0.006</td>\n",
       "      <td>0.022</td>\n",
       "      <td>0.084</td>\n",
       "      <td>0.002</td>\n",
       "      <td>0.072</td>\n",
       "      <td>0.2</td>\n",
       "    </tr>\n",
       "    <tr>\n",
       "      <th>COLLECTION_PAIDOFF</th>\n",
       "      <td>0.002</td>\n",
       "      <td>0.010</td>\n",
       "      <td>0.016</td>\n",
       "      <td>0.028</td>\n",
       "      <td>0.064</td>\n",
       "      <td>0.000</td>\n",
       "      <td>0.080</td>\n",
       "      <td>0.2</td>\n",
       "    </tr>\n",
       "    <tr>\n",
       "      <th>PAIDOFF</th>\n",
       "      <td>0.024</td>\n",
       "      <td>0.038</td>\n",
       "      <td>0.044</td>\n",
       "      <td>0.058</td>\n",
       "      <td>0.208</td>\n",
       "      <td>0.006</td>\n",
       "      <td>0.222</td>\n",
       "      <td>0.6</td>\n",
       "    </tr>\n",
       "    <tr>\n",
       "      <th>All</th>\n",
       "      <td>0.026</td>\n",
       "      <td>0.062</td>\n",
       "      <td>0.066</td>\n",
       "      <td>0.108</td>\n",
       "      <td>0.356</td>\n",
       "      <td>0.008</td>\n",
       "      <td>0.374</td>\n",
       "      <td>1.0</td>\n",
       "    </tr>\n",
       "  </tbody>\n",
       "</table>\n",
       "</div>"
      ],
      "text/plain": [
       "col_0               female_Bechalor  female_High School or Below  \\\n",
       "loan_status                                                        \n",
       "COLLECTION                    0.000                        0.014   \n",
       "COLLECTION_PAIDOFF            0.002                        0.010   \n",
       "PAIDOFF                       0.024                        0.038   \n",
       "All                           0.026                        0.062   \n",
       "\n",
       "col_0               female_college  male_Bechalor  male_High School or Below  \\\n",
       "loan_status                                                                    \n",
       "COLLECTION                   0.006          0.022                      0.084   \n",
       "COLLECTION_PAIDOFF           0.016          0.028                      0.064   \n",
       "PAIDOFF                      0.044          0.058                      0.208   \n",
       "All                          0.066          0.108                      0.356   \n",
       "\n",
       "col_0               male_Master or Above  male_college  All  \n",
       "loan_status                                                  \n",
       "COLLECTION                         0.002         0.072  0.2  \n",
       "COLLECTION_PAIDOFF                 0.000         0.080  0.2  \n",
       "PAIDOFF                            0.006         0.222  0.6  \n",
       "All                                0.008         0.374  1.0  "
      ]
     },
     "execution_count": 22,
     "metadata": {},
     "output_type": "execute_result"
    }
   ],
   "source": [
    "pd.crosstab(loandf['loan_status'],loandf['Gender']+\"_\"+loandf['education'],margins=True,normalize='all')"
   ]
  },
  {
   "cell_type": "code",
   "execution_count": 23,
   "metadata": {},
   "outputs": [
    {
     "data": {
      "text/html": [
       "<div>\n",
       "<style scoped>\n",
       "    .dataframe tbody tr th:only-of-type {\n",
       "        vertical-align: middle;\n",
       "    }\n",
       "\n",
       "    .dataframe tbody tr th {\n",
       "        vertical-align: top;\n",
       "    }\n",
       "\n",
       "    .dataframe thead th {\n",
       "        text-align: right;\n",
       "    }\n",
       "</style>\n",
       "<table border=\"1\" class=\"dataframe\">\n",
       "  <thead>\n",
       "    <tr style=\"text-align: right;\">\n",
       "      <th>col_0</th>\n",
       "      <th>female_Bechalor</th>\n",
       "      <th>female_High School or Below</th>\n",
       "      <th>female_college</th>\n",
       "      <th>male_Bechalor</th>\n",
       "      <th>male_High School or Below</th>\n",
       "      <th>male_Master or Above</th>\n",
       "      <th>male_college</th>\n",
       "    </tr>\n",
       "    <tr>\n",
       "      <th>loan_status</th>\n",
       "      <th></th>\n",
       "      <th></th>\n",
       "      <th></th>\n",
       "      <th></th>\n",
       "      <th></th>\n",
       "      <th></th>\n",
       "      <th></th>\n",
       "    </tr>\n",
       "  </thead>\n",
       "  <tbody>\n",
       "    <tr>\n",
       "      <th>COLLECTION</th>\n",
       "      <td>0.000</td>\n",
       "      <td>0.070000</td>\n",
       "      <td>0.030000</td>\n",
       "      <td>0.110000</td>\n",
       "      <td>0.420000</td>\n",
       "      <td>0.010</td>\n",
       "      <td>0.360</td>\n",
       "    </tr>\n",
       "    <tr>\n",
       "      <th>COLLECTION_PAIDOFF</th>\n",
       "      <td>0.010</td>\n",
       "      <td>0.050000</td>\n",
       "      <td>0.080000</td>\n",
       "      <td>0.140000</td>\n",
       "      <td>0.320000</td>\n",
       "      <td>0.000</td>\n",
       "      <td>0.400</td>\n",
       "    </tr>\n",
       "    <tr>\n",
       "      <th>PAIDOFF</th>\n",
       "      <td>0.040</td>\n",
       "      <td>0.063333</td>\n",
       "      <td>0.073333</td>\n",
       "      <td>0.096667</td>\n",
       "      <td>0.346667</td>\n",
       "      <td>0.010</td>\n",
       "      <td>0.370</td>\n",
       "    </tr>\n",
       "    <tr>\n",
       "      <th>All</th>\n",
       "      <td>0.026</td>\n",
       "      <td>0.062000</td>\n",
       "      <td>0.066000</td>\n",
       "      <td>0.108000</td>\n",
       "      <td>0.356000</td>\n",
       "      <td>0.008</td>\n",
       "      <td>0.374</td>\n",
       "    </tr>\n",
       "  </tbody>\n",
       "</table>\n",
       "</div>"
      ],
      "text/plain": [
       "col_0               female_Bechalor  female_High School or Below  \\\n",
       "loan_status                                                        \n",
       "COLLECTION                    0.000                     0.070000   \n",
       "COLLECTION_PAIDOFF            0.010                     0.050000   \n",
       "PAIDOFF                       0.040                     0.063333   \n",
       "All                           0.026                     0.062000   \n",
       "\n",
       "col_0               female_college  male_Bechalor  male_High School or Below  \\\n",
       "loan_status                                                                    \n",
       "COLLECTION                0.030000       0.110000                   0.420000   \n",
       "COLLECTION_PAIDOFF        0.080000       0.140000                   0.320000   \n",
       "PAIDOFF                   0.073333       0.096667                   0.346667   \n",
       "All                       0.066000       0.108000                   0.356000   \n",
       "\n",
       "col_0               male_Master or Above  male_college  \n",
       "loan_status                                             \n",
       "COLLECTION                         0.010         0.360  \n",
       "COLLECTION_PAIDOFF                 0.000         0.400  \n",
       "PAIDOFF                            0.010         0.370  \n",
       "All                                0.008         0.374  "
      ]
     },
     "execution_count": 23,
     "metadata": {},
     "output_type": "execute_result"
    }
   ],
   "source": [
    "pd.crosstab(loandf['loan_status'],loandf['Gender']+\"_\"+loandf['education'],margins=True,normalize='index')"
   ]
  },
  {
   "cell_type": "code",
   "execution_count": 24,
   "metadata": {},
   "outputs": [
    {
     "data": {
      "text/html": [
       "<div>\n",
       "<style scoped>\n",
       "    .dataframe tbody tr th:only-of-type {\n",
       "        vertical-align: middle;\n",
       "    }\n",
       "\n",
       "    .dataframe tbody tr th {\n",
       "        vertical-align: top;\n",
       "    }\n",
       "\n",
       "    .dataframe thead th {\n",
       "        text-align: right;\n",
       "    }\n",
       "</style>\n",
       "<table border=\"1\" class=\"dataframe\">\n",
       "  <thead>\n",
       "    <tr style=\"text-align: right;\">\n",
       "      <th>col_0</th>\n",
       "      <th>female_Bechalor</th>\n",
       "      <th>female_High School or Below</th>\n",
       "      <th>female_college</th>\n",
       "      <th>male_Bechalor</th>\n",
       "      <th>male_High School or Below</th>\n",
       "      <th>male_Master or Above</th>\n",
       "      <th>male_college</th>\n",
       "      <th>All</th>\n",
       "    </tr>\n",
       "    <tr>\n",
       "      <th>loan_status</th>\n",
       "      <th></th>\n",
       "      <th></th>\n",
       "      <th></th>\n",
       "      <th></th>\n",
       "      <th></th>\n",
       "      <th></th>\n",
       "      <th></th>\n",
       "      <th></th>\n",
       "    </tr>\n",
       "  </thead>\n",
       "  <tbody>\n",
       "    <tr>\n",
       "      <th>COLLECTION</th>\n",
       "      <td>0.000000</td>\n",
       "      <td>0.225806</td>\n",
       "      <td>0.090909</td>\n",
       "      <td>0.203704</td>\n",
       "      <td>0.235955</td>\n",
       "      <td>0.25</td>\n",
       "      <td>0.192513</td>\n",
       "      <td>0.2</td>\n",
       "    </tr>\n",
       "    <tr>\n",
       "      <th>COLLECTION_PAIDOFF</th>\n",
       "      <td>0.076923</td>\n",
       "      <td>0.161290</td>\n",
       "      <td>0.242424</td>\n",
       "      <td>0.259259</td>\n",
       "      <td>0.179775</td>\n",
       "      <td>0.00</td>\n",
       "      <td>0.213904</td>\n",
       "      <td>0.2</td>\n",
       "    </tr>\n",
       "    <tr>\n",
       "      <th>PAIDOFF</th>\n",
       "      <td>0.923077</td>\n",
       "      <td>0.612903</td>\n",
       "      <td>0.666667</td>\n",
       "      <td>0.537037</td>\n",
       "      <td>0.584270</td>\n",
       "      <td>0.75</td>\n",
       "      <td>0.593583</td>\n",
       "      <td>0.6</td>\n",
       "    </tr>\n",
       "  </tbody>\n",
       "</table>\n",
       "</div>"
      ],
      "text/plain": [
       "col_0               female_Bechalor  female_High School or Below  \\\n",
       "loan_status                                                        \n",
       "COLLECTION                 0.000000                     0.225806   \n",
       "COLLECTION_PAIDOFF         0.076923                     0.161290   \n",
       "PAIDOFF                    0.923077                     0.612903   \n",
       "\n",
       "col_0               female_college  male_Bechalor  male_High School or Below  \\\n",
       "loan_status                                                                    \n",
       "COLLECTION                0.090909       0.203704                   0.235955   \n",
       "COLLECTION_PAIDOFF        0.242424       0.259259                   0.179775   \n",
       "PAIDOFF                   0.666667       0.537037                   0.584270   \n",
       "\n",
       "col_0               male_Master or Above  male_college  All  \n",
       "loan_status                                                  \n",
       "COLLECTION                          0.25      0.192513  0.2  \n",
       "COLLECTION_PAIDOFF                  0.00      0.213904  0.2  \n",
       "PAIDOFF                             0.75      0.593583  0.6  "
      ]
     },
     "execution_count": 24,
     "metadata": {},
     "output_type": "execute_result"
    }
   ],
   "source": [
    "pd.crosstab(loandf['loan_status'],loandf['Gender']+\"_\"+loandf['education'],margins=True,normalize='columns')"
   ]
  },
  {
   "cell_type": "markdown",
   "metadata": {},
   "source": [
    "## Time to model!\n",
    "\n",
    "First lets fix the miseleading status loan records\n",
    "\n",
    "Second change the categorical and variable to numerical \n",
    "we will merge collections and collections_paid off because we are interseted in those who paid on time!\n",
    "\n",
    "We will convert education and gender to dummies\n",
    "\n",
    "We will then perform Random Forest SVM and keras.\n"
   ]
  },
  {
   "cell_type": "code",
   "execution_count": 27,
   "metadata": {},
   "outputs": [],
   "source": [
    "loandf.loc[(loandf['loan_status'] =='PAIDOFF' ) &(loandf['Days to pay']>30),'loan_status']='COLLECTION_PAIDOFF'"
   ]
  },
  {
   "cell_type": "code",
   "execution_count": 29,
   "metadata": {},
   "outputs": [
    {
     "data": {
      "text/plain": [
       "Text(0.5,1,'Count with new targets')"
      ]
     },
     "execution_count": 29,
     "metadata": {},
     "output_type": "execute_result"
    },
    {
     "data": {
      "image/png": "[encoded data removed]",
      "text/plain": [
       "<matplotlib.figure.Figure at 0x7f4a8037c8d0>"
      ]
     },
     "metadata": {},
     "output_type": "display_data"
    }
   ],
   "source": [
    "smap= {\"PAIDOFF\": 1, \"COLLECTION\": 2, \"COLLECTION_PAIDOFF\": 2 }\n",
    "loandf['loan_status_trgt'] = loandf['loan_status'].map(smap)\n",
    "\n",
    "fig, axs=plt.subplots(1,2,figsize=(12,5))\n",
    "\n",
    "sns.countplot(x='loan_status',data=loandf,ax=axs[0])\n",
    "axs[0].set_title('Count with original targets')\n",
    "\n",
    "sns.countplot(x='loan_status_trgt', data=loandf, ax=axs[1])\n",
    "axs[1].set_title('Count with new targets')\n"
   ]
  },
  {
   "cell_type": "code",
   "execution_count": 30,
   "metadata": {
    "collapsed": true
   },
   "outputs": [],
   "source": [
    "dummies=pd.get_dummies(loandf['education']).rename(columns=lambda x:'is_' +str(x))\n",
    "loandf=pd.concat([loandf,dummies],axis=1)\n",
    "loandf.drop(['education'],axis=1,inplace=True)"
   ]
  },
  {
   "cell_type": "code",
   "execution_count": 31,
   "metadata": {
    "collapsed": true
   },
   "outputs": [],
   "source": [
    "dummies=pd.get_dummies(loandf['Gender']).rename(columns=lambda x:'is_' +str(x))\n",
    "loandf=pd.concat([loandf,dummies],axis=1)\n",
    "loandf.drop(['Gender'],axis=1,inplace=True)"
   ]
  },
  {
   "cell_type": "code",
   "execution_count": 35,
   "metadata": {},
   "outputs": [],
   "source": [
    "loandf.drop(['Loan_ID', 'loan_status', 'effective_date', 'due_date',\n",
    "             'paid_off_time', 'past_due_days', 'paid_off_date', 'Days to pay'], axis=1,inplace=True)"
   ]
  },
  {
   "cell_type": "code",
   "execution_count": 36,
   "metadata": {
    "collapsed": true
   },
   "outputs": [],
   "source": [
    "dummyvar=['is_female','is_Master or Above']\n",
    "loandf.drop(dummyvar,axis=1, inplace=True)"
   ]
  },
  {
   "cell_type": "code",
   "execution_count": 37,
   "metadata": {
    "collapsed": true
   },
   "outputs": [],
   "source": [
    "#create our inputs and target variable\n",
    "X=loandf.drop('loan_status_trgt',axis=1)\n",
    "y=loandf['loan_status_trgt']"
   ]
  },
  {
   "cell_type": "code",
   "execution_count": 39,
   "metadata": {},
   "outputs": [],
   "source": [
    "#import ML libraries\n",
    "\n",
    "from sklearn.model_selection import train_test_split \n",
    "from sklearn.ensemble import RandomForestClassifier\n",
    "from sklearn import svm"
   ]
  },
  {
   "cell_type": "code",
   "execution_count": 65,
   "metadata": {
    "collapsed": true
   },
   "outputs": [],
   "source": [
    "## funciton to evaluate our models\n",
    "\n",
    "def eval_model(model, data, target, splitratio):\n",
    "    trainX, testX, trainY, testY = train_test_split(data, target, train_size=splitratio, random_state=0)\n",
    "    model.fit(trainX,trainY)\n",
    "    return model.score(testX,testY)"
   ]
  },
  {
   "cell_type": "markdown",
   "metadata": {},
   "source": [
    "#### Random Forest "
   ]
  },
  {
   "cell_type": "code",
   "execution_count": 66,
   "metadata": {},
   "outputs": [
    {
     "name": "stdout",
     "output_type": "stream",
     "text": [
      "RandomForestClassification Starting\n",
      "Try 0 with n_estimators = 1 and score = 0.57\n",
      "Try 1 with n_estimators = 1 and score = 0.57\n",
      "Try 2 with n_estimators = 1 and score = 0.56\n",
      "Try 3 with n_estimators = 1 and score = 0.49\n",
      "Try 4 with n_estimators = 1 and score = 0.51\n",
      "Try 0 with n_estimators = 1 and score = 0.5\n",
      "Try 1 with n_estimators = 1 and score = 0.5\n",
      "Try 2 with n_estimators = 1 and score = 0.55\n",
      "Try 3 with n_estimators = 1 and score = 0.49\n",
      "Try 4 with n_estimators = 1 and score = 0.58\n",
      "Try 0 with n_estimators = 1 and score = 0.5\n",
      "Try 1 with n_estimators = 1 and score = 0.55\n",
      "Try 2 with n_estimators = 1 and score = 0.5\n",
      "Try 3 with n_estimators = 1 and score = 0.52\n",
      "Try 4 with n_estimators = 1 and score = 0.53\n",
      "Try 0 with n_estimators = 1 and score = 0.52\n",
      "Try 1 with n_estimators = 1 and score = 0.55\n",
      "Try 2 with n_estimators = 1 and score = 0.5\n",
      "Try 3 with n_estimators = 1 and score = 0.52\n",
      "Try 4 with n_estimators = 1 and score = 0.55\n",
      "Try 0 with n_estimators = 1 and score = 0.53\n",
      "Try 1 with n_estimators = 1 and score = 0.52\n",
      "Try 2 with n_estimators = 1 and score = 0.56\n",
      "Try 3 with n_estimators = 1 and score = 0.52\n",
      "Try 4 with n_estimators = 1 and score = 0.51\n",
      "Try 0 with n_estimators = 1 and score = 0.57\n",
      "Try 1 with n_estimators = 1 and score = 0.57\n",
      "Try 2 with n_estimators = 1 and score = 0.57\n",
      "Try 3 with n_estimators = 1 and score = 0.57\n",
      "Try 4 with n_estimators = 1 and score = 0.56\n",
      "Try 0 with n_estimators = 1 and score = 0.56\n",
      "Try 1 with n_estimators = 1 and score = 0.53\n",
      "Try 2 with n_estimators = 1 and score = 0.51\n",
      "Try 3 with n_estimators = 1 and score = 0.53\n",
      "Try 4 with n_estimators = 1 and score = 0.58\n",
      "RandomForestClassification Done!\n"
     ]
    }
   ],
   "source": [
    "import warnings\n",
    "warnings.filterwarnings(\"ignore\")\n",
    "\n",
    "num_estimator=np.array([1,5,10,50,100,250,500])\n",
    "num_sample=5\n",
    "num_grid=len(num_estimator)\n",
    "score_mean=np.zeros(num_grid)\n",
    "score_sigma=np.zeros(num_grid)\n",
    "j=0\n",
    "\n",
    "\n",
    "\n",
    "print(\"RandomForestClassification Starting\")\n",
    "for x in num_estimator:\n",
    "    score_array = np.zeros(num_sample) # Initialize\n",
    "    for i in range(0,num_sample):\n",
    "        rf_class = RandomForestClassifier(n_estimators = x, n_jobs=1, criterion=\"gini\")\n",
    "        score_array[i] = eval_model(rf_class, X, y, 0.8)\n",
    "        print(\"Try {} with n_estimators = {} and score = {}\".format( i, n_estimators, score_array[i]))\n",
    "    score_mean[j], score_sigma[j] = np.mean(score_array), np.std(score_array)\n",
    "    j=j+1\n",
    "\n",
    "print(\"RandomForestClassification Done!\")"
   ]
  },
  {
   "cell_type": "code",
   "execution_count": 67,
   "metadata": {},
   "outputs": [
    {
     "data": {
      "image/png": "[encoded data removed]",
      "text/plain": [
       "<matplotlib.figure.Figure at 0x7f4a78074a90>"
      ]
     },
     "metadata": {},
     "output_type": "display_data"
    }
   ],
   "source": [
    "fig = plt.figure(figsize=(12,6))\n",
    "plt.errorbar(num_estimator, score_mean, yerr=score_sigma, fmt='k.-')\n",
    "plt.xscale(\"log\")\n",
    "plt.xlabel(\"number of estimators\",size = 16)\n",
    "plt.ylabel(\"accuracy\",size = 16)\n",
    "plt.xlim(0.9,600)\n",
    "plt.ylim(0.3,0.8)\n",
    "plt.title(\"Random Forest Classifier\", size = 18)\n",
    "plt.grid(which=\"both\")\n",
    "\n"
   ]
  },
  {
   "cell_type": "code",
   "execution_count": 68,
   "metadata": {},
   "outputs": [
    {
     "data": {
      "image/png": "[encoded data removed]",
      "text/plain": [
       "<matplotlib.figure.Figure at 0x7f4a655ee0f0>"
      ]
     },
     "metadata": {},
     "output_type": "display_data"
    }
   ],
   "source": [
    "#SVM linear\n",
    "\n",
    "C_ar = np.array([0.5, 0.1, 1, 5, 10])\n",
    "score_ar = np.zeros(len(C_ar))\n",
    "i=0\n",
    "for C_val in C_ar:\n",
    "    svc_class = svm.SVC(kernel='linear', random_state=1, C = C_val)\n",
    "    score_array[i] = eval_model(svc_class, X, y, 0.8)\n",
    "    i=i+1\n",
    "\n",
    "score_mu, score_sigma = np.mean(score_ar), np.std(score_ar)\n",
    "\n",
    "fig = plt.figure(figsize=(12,6))\n",
    "plt.errorbar(C_ar, score_ar, yerr=score_sigma, fmt='k.-')\n",
    "plt.xlabel(\"C assignment\",size = 16)\n",
    "plt.ylabel(\"accuracy\",size = 16)\n",
    "plt.title(\"SVM Classifier (Linear)\", size = 18)\n",
    "plt.grid(which=\"both\")\n"
   ]
  },
  {
   "cell_type": "code",
   "execution_count": 70,
   "metadata": {},
   "outputs": [
    {
     "data": {
      "image/png": "[encoded data removed]",
      "text/plain": [
       "<matplotlib.figure.Figure at 0x7f4a651ffd30>"
      ]
     },
     "metadata": {},
     "output_type": "display_data"
    }
   ],
   "source": [
    "#adjusting our gamme\n",
    "gamma_ar = np.array([0.001, 0.01, 0.1, 1, 10])\n",
    "score_ar = np.zeros(len(gamma_ar))\n",
    "score_mean = np.zeros(len(gamma_ar))\n",
    "score_sigma = np.zeros(len(gamma_ar))\n",
    "i=0\n",
    "for l in gamma_ar:\n",
    "    svc_class = svm.SVC(kernel='rbf', random_state=1, gamma = l)\n",
    "    score_array[i] = eval_model(svc_class, X, y, 0.8)\n",
    "    score_mean[i], score_sigma[i] = np.mean(score_ar[i]), np.std(score_ar[i])\n",
    "    i=i+1\n",
    "\n",
    "\n",
    "fig = plt.figure(figsize=(12,6))\n",
    "plt.errorbar(gamma_ar, score_mean, yerr=score_sigma, fmt='k.-')\n",
    "plt.xscale('log')\n",
    "plt.xlabel(\"Gamma\",size = 16)\n",
    "plt.ylabel(\"accuracy\",size = 16)\n",
    "plt.title(\"SVM Classifier (RBF)\", size = 18)\n",
    "plt.grid(which=\"both\")"
   ]
  },
  {
   "cell_type": "code",
   "execution_count": 59,
   "metadata": {},
   "outputs": [
    {
     "name": "stderr",
     "output_type": "stream",
     "text": [
      "Using TensorFlow backend.\n"
     ]
    }
   ],
   "source": [
    "#keras\n",
    "\n",
    "import keras\n",
    "from keras.models import Sequential\n",
    "from keras.layers import Dense, Dropout, Activation\n",
    "from keras.optimizers import SGD\n",
    "\n",
    "# Change to np.array type\n",
    "new_x = np.array(X)\n",
    "new_y = np.array(y)\n",
    "\n",
    "# fix random seed for reproducibility\n",
    "np.random.seed(1234)\n",
    "\n",
    "model = Sequential()\n",
    "model.add(Dense(64, input_dim=7, init='uniform', activation='relu'))\n",
    "model.add(Dropout(0.5))\n",
    "model.add(Dense(64, activation='relu'))\n",
    "model.add(Dropout(0.5))\n",
    "model.add(Dense(1, activation='sigmoid'))\n",
    "model.compile(loss='binary_crossentropy', optimizer='rmsprop', metrics=['accuracy'])"
   ]
  },
  {
   "cell_type": "code",
   "execution_count": 61,
   "metadata": {},
   "outputs": [
    {
     "name": "stdout",
     "output_type": "stream",
     "text": [
      "Epoch 1/150\n",
      "500/500 [==============================] - 0s 246us/step - loss: -6.4015 - acc: 0.5580\n",
      "Epoch 2/150\n",
      "500/500 [==============================] - 0s 99us/step - loss: -6.5703 - acc: 0.5680\n",
      "Epoch 3/150\n",
      "500/500 [==============================] - 0s 104us/step - loss: -6.7068 - acc: 0.5720\n",
      "Epoch 4/150\n",
      "500/500 [==============================] - 0s 103us/step - loss: -6.7864 - acc: 0.5720\n",
      "Epoch 5/150\n",
      "500/500 [==============================] - 0s 88us/step - loss: -6.8009 - acc: 0.5720\n",
      "Epoch 6/150\n",
      "500/500 [==============================] - 0s 154us/step - loss: -6.8230 - acc: 0.5720\n",
      "Epoch 7/150\n",
      "500/500 [==============================] - 0s 124us/step - loss: -6.8233 - acc: 0.5720\n",
      "Epoch 8/150\n",
      "500/500 [==============================] - 0s 103us/step - loss: -6.7981 - acc: 0.5700\n",
      "Epoch 9/150\n",
      "500/500 [==============================] - 0s 121us/step - loss: -6.8058 - acc: 0.5720\n",
      "Epoch 10/150\n",
      "500/500 [==============================] - 0s 168us/step - loss: -6.7525 - acc: 0.5700\n",
      "Epoch 11/150\n",
      "500/500 [==============================] - 0s 124us/step - loss: -6.8151 - acc: 0.5720\n",
      "Epoch 12/150\n",
      "500/500 [==============================] - 0s 106us/step - loss: -6.8053 - acc: 0.5700\n",
      "Epoch 13/150\n",
      "500/500 [==============================] - 0s 115us/step - loss: -6.8233 - acc: 0.5720\n",
      "Epoch 14/150\n",
      "500/500 [==============================] - 0s 121us/step - loss: -6.8233 - acc: 0.5720\n",
      "Epoch 15/150\n",
      "500/500 [==============================] - 0s 141us/step - loss: -6.8233 - acc: 0.5720\n",
      "Epoch 16/150\n",
      "500/500 [==============================] - 0s 120us/step - loss: -6.8198 - acc: 0.5720\n",
      "Epoch 17/150\n",
      "500/500 [==============================] - 0s 115us/step - loss: -6.8233 - acc: 0.5720\n",
      "Epoch 18/150\n",
      "500/500 [==============================] - 0s 101us/step - loss: -6.8233 - acc: 0.5720\n",
      "Epoch 19/150\n",
      "500/500 [==============================] - 0s 157us/step - loss: -6.8030 - acc: 0.5720\n",
      "Epoch 20/150\n",
      "500/500 [==============================] - 0s 157us/step - loss: -6.8233 - acc: 0.5720\n",
      "Epoch 21/150\n",
      "500/500 [==============================] - 0s 157us/step - loss: -6.8233 - acc: 0.5720\n",
      "Epoch 22/150\n",
      "500/500 [==============================] - 0s 177us/step - loss: -6.8233 - acc: 0.5720\n",
      "Epoch 23/150\n",
      "500/500 [==============================] - 0s 174us/step - loss: -6.8233 - acc: 0.5720\n",
      "Epoch 24/150\n",
      "500/500 [==============================] - 0s 109us/step - loss: -6.8233 - acc: 0.5720\n",
      "Epoch 25/150\n",
      "500/500 [==============================] - 0s 100us/step - loss: -6.8233 - acc: 0.5720\n",
      "Epoch 26/150\n",
      "500/500 [==============================] - 0s 110us/step - loss: -6.8233 - acc: 0.5720\n",
      "Epoch 27/150\n",
      "500/500 [==============================] - 0s 191us/step - loss: -6.8233 - acc: 0.5720\n",
      "Epoch 28/150\n",
      "500/500 [==============================] - 0s 164us/step - loss: -6.8233 - acc: 0.5720\n",
      "Epoch 29/150\n",
      "500/500 [==============================] - 0s 179us/step - loss: -6.8233 - acc: 0.5720\n",
      "Epoch 30/150\n",
      "500/500 [==============================] - 0s 135us/step - loss: -6.8233 - acc: 0.5720\n",
      "Epoch 31/150\n",
      "500/500 [==============================] - 0s 113us/step - loss: -6.8233 - acc: 0.5720\n",
      "Epoch 32/150\n",
      "500/500 [==============================] - 0s 183us/step - loss: -6.8233 - acc: 0.5720\n",
      "Epoch 33/150\n",
      "500/500 [==============================] - 0s 144us/step - loss: -6.8233 - acc: 0.5720\n",
      "Epoch 34/150\n",
      "500/500 [==============================] - 0s 149us/step - loss: -6.8233 - acc: 0.5720\n",
      "Epoch 35/150\n",
      "500/500 [==============================] - 0s 143us/step - loss: -6.8233 - acc: 0.5720\n",
      "Epoch 36/150\n",
      "500/500 [==============================] - 0s 139us/step - loss: -6.8108 - acc: 0.5720\n",
      "Epoch 37/150\n",
      "500/500 [==============================] - 0s 181us/step - loss: -6.8233 - acc: 0.5720\n",
      "Epoch 38/150\n",
      "500/500 [==============================] - 0s 158us/step - loss: -6.8233 - acc: 0.5720\n",
      "Epoch 39/150\n",
      "500/500 [==============================] - 0s 224us/step - loss: -6.8083 - acc: 0.5720\n",
      "Epoch 40/150\n",
      "500/500 [==============================] - 0s 139us/step - loss: -6.8233 - acc: 0.5720\n",
      "Epoch 41/150\n",
      "500/500 [==============================] - 0s 138us/step - loss: -6.8233 - acc: 0.5720\n",
      "Epoch 42/150\n",
      "500/500 [==============================] - 0s 207us/step - loss: -6.8233 - acc: 0.5720\n",
      "Epoch 43/150\n",
      "500/500 [==============================] - 0s 210us/step - loss: -6.8233 - acc: 0.5720\n",
      "Epoch 44/150\n",
      "500/500 [==============================] - 0s 163us/step - loss: -6.8045 - acc: 0.5720\n",
      "Epoch 45/150\n",
      "500/500 [==============================] - 0s 125us/step - loss: -6.8233 - acc: 0.5720\n",
      "Epoch 46/150\n",
      "500/500 [==============================] - 0s 206us/step - loss: -6.8233 - acc: 0.5720\n",
      "Epoch 47/150\n",
      "500/500 [==============================] - 0s 135us/step - loss: -6.8233 - acc: 0.5720\n",
      "Epoch 48/150\n",
      "500/500 [==============================] - 0s 217us/step - loss: -6.8233 - acc: 0.5720\n",
      "Epoch 49/150\n",
      "500/500 [==============================] - 0s 173us/step - loss: -6.8233 - acc: 0.5720\n",
      "Epoch 50/150\n",
      "500/500 [==============================] - 0s 172us/step - loss: -6.8233 - acc: 0.5720\n",
      "Epoch 51/150\n",
      "500/500 [==============================] - 0s 180us/step - loss: -6.8233 - acc: 0.5720\n",
      "Epoch 52/150\n",
      "500/500 [==============================] - 0s 208us/step - loss: -6.8233 - acc: 0.5720\n",
      "Epoch 53/150\n",
      "500/500 [==============================] - 0s 142us/step - loss: -6.8233 - acc: 0.5720\n",
      "Epoch 54/150\n",
      "500/500 [==============================] - 0s 125us/step - loss: -6.8233 - acc: 0.5720\n",
      "Epoch 55/150\n",
      "500/500 [==============================] - 0s 150us/step - loss: -6.8233 - acc: 0.5720\n",
      "Epoch 56/150\n",
      "500/500 [==============================] - 0s 150us/step - loss: -6.8233 - acc: 0.5720\n",
      "Epoch 57/150\n",
      "500/500 [==============================] - 0s 133us/step - loss: -6.7898 - acc: 0.5720\n",
      "Epoch 58/150\n",
      "500/500 [==============================] - 0s 142us/step - loss: -6.8233 - acc: 0.5720\n",
      "Epoch 59/150\n",
      "500/500 [==============================] - 0s 116us/step - loss: -6.8233 - acc: 0.5720\n",
      "Epoch 60/150\n",
      "500/500 [==============================] - 0s 88us/step - loss: -6.8233 - acc: 0.5720\n",
      "Epoch 61/150\n",
      "500/500 [==============================] - 0s 99us/step - loss: -6.8233 - acc: 0.5720\n",
      "Epoch 62/150\n",
      "500/500 [==============================] - 0s 143us/step - loss: -6.8233 - acc: 0.5720\n",
      "Epoch 63/150\n",
      "500/500 [==============================] - 0s 170us/step - loss: -6.8233 - acc: 0.5720\n",
      "Epoch 64/150\n",
      "500/500 [==============================] - 0s 141us/step - loss: -6.8233 - acc: 0.5720\n",
      "Epoch 65/150\n",
      "500/500 [==============================] - 0s 155us/step - loss: -6.8233 - acc: 0.5720\n",
      "Epoch 66/150\n",
      "500/500 [==============================] - 0s 116us/step - loss: -6.8233 - acc: 0.5720\n",
      "Epoch 67/150\n",
      "500/500 [==============================] - 0s 116us/step - loss: -6.8233 - acc: 0.5720\n",
      "Epoch 68/150\n",
      "500/500 [==============================] - 0s 173us/step - loss: -6.8233 - acc: 0.5720\n",
      "Epoch 69/150\n",
      "500/500 [==============================] - 0s 156us/step - loss: -6.8233 - acc: 0.5720\n",
      "Epoch 70/150\n",
      "500/500 [==============================] - 0s 183us/step - loss: -6.8233 - acc: 0.5720\n",
      "Epoch 71/150\n",
      "500/500 [==============================] - 0s 106us/step - loss: -6.8233 - acc: 0.5720\n",
      "Epoch 72/150\n",
      "500/500 [==============================] - 0s 100us/step - loss: -6.8233 - acc: 0.5720\n",
      "Epoch 73/150\n",
      "500/500 [==============================] - 0s 205us/step - loss: -6.8233 - acc: 0.5720\n",
      "Epoch 74/150\n",
      "500/500 [==============================] - 0s 138us/step - loss: -6.8233 - acc: 0.5720\n",
      "Epoch 75/150\n",
      "500/500 [==============================] - 0s 190us/step - loss: -6.8233 - acc: 0.5720\n",
      "Epoch 76/150\n",
      "500/500 [==============================] - 0s 145us/step - loss: -6.8233 - acc: 0.5720\n",
      "Epoch 77/150\n",
      "500/500 [==============================] - 0s 127us/step - loss: -6.8233 - acc: 0.5720\n",
      "Epoch 78/150\n",
      "500/500 [==============================] - 0s 185us/step - loss: -6.8233 - acc: 0.5720\n",
      "Epoch 79/150\n",
      "500/500 [==============================] - 0s 170us/step - loss: -6.8233 - acc: 0.5720\n",
      "Epoch 80/150\n",
      "500/500 [==============================] - 0s 170us/step - loss: -6.8233 - acc: 0.5720\n",
      "Epoch 81/150\n",
      "500/500 [==============================] - 0s 124us/step - loss: -6.8233 - acc: 0.5720\n",
      "Epoch 82/150\n",
      "500/500 [==============================] - 0s 176us/step - loss: -6.8182 - acc: 0.5720\n",
      "Epoch 83/150\n"
     ]
    },
    {
     "name": "stdout",
     "output_type": "stream",
     "text": [
      "500/500 [==============================] - 0s 154us/step - loss: -6.8233 - acc: 0.5720\n",
      "Epoch 84/150\n",
      "500/500 [==============================] - 0s 140us/step - loss: -6.8233 - acc: 0.5720\n",
      "Epoch 85/150\n",
      "500/500 [==============================] - 0s 147us/step - loss: -6.8233 - acc: 0.5720\n",
      "Epoch 86/150\n",
      "500/500 [==============================] - 0s 98us/step - loss: -6.8233 - acc: 0.5720\n",
      "Epoch 87/150\n",
      "500/500 [==============================] - 0s 161us/step - loss: -6.8233 - acc: 0.5720\n",
      "Epoch 88/150\n",
      "500/500 [==============================] - 0s 133us/step - loss: -6.8233 - acc: 0.5720\n",
      "Epoch 89/150\n",
      "500/500 [==============================] - 0s 138us/step - loss: -6.8233 - acc: 0.5720\n",
      "Epoch 90/150\n",
      "500/500 [==============================] - 0s 128us/step - loss: -6.8233 - acc: 0.5720\n",
      "Epoch 91/150\n",
      "500/500 [==============================] - 0s 95us/step - loss: -6.8233 - acc: 0.5720\n",
      "Epoch 92/150\n",
      "500/500 [==============================] - 0s 133us/step - loss: -6.8233 - acc: 0.5720\n",
      "Epoch 93/150\n",
      "500/500 [==============================] - 0s 144us/step - loss: -6.8233 - acc: 0.5720\n",
      "Epoch 94/150\n",
      "500/500 [==============================] - 0s 128us/step - loss: -6.8233 - acc: 0.5720\n",
      "Epoch 95/150\n",
      "500/500 [==============================] - 0s 137us/step - loss: -6.8233 - acc: 0.5720\n",
      "Epoch 96/150\n",
      "500/500 [==============================] - 0s 141us/step - loss: -6.8233 - acc: 0.5720\n",
      "Epoch 97/150\n",
      "500/500 [==============================] - 0s 83us/step - loss: -6.8233 - acc: 0.5720\n",
      "Epoch 98/150\n",
      "500/500 [==============================] - 0s 93us/step - loss: -6.8233 - acc: 0.5720\n",
      "Epoch 99/150\n",
      "500/500 [==============================] - 0s 128us/step - loss: -6.8233 - acc: 0.5720\n",
      "Epoch 100/150\n",
      "500/500 [==============================] - 0s 143us/step - loss: -6.8233 - acc: 0.5720\n",
      "Epoch 101/150\n",
      "500/500 [==============================] - 0s 166us/step - loss: -6.8233 - acc: 0.5720\n",
      "Epoch 102/150\n",
      "500/500 [==============================] - 0s 136us/step - loss: -6.8233 - acc: 0.5720\n",
      "Epoch 103/150\n",
      "500/500 [==============================] - 0s 93us/step - loss: -6.8198 - acc: 0.5720\n",
      "Epoch 104/150\n",
      "500/500 [==============================] - 0s 101us/step - loss: -6.8233 - acc: 0.5720\n",
      "Epoch 105/150\n",
      "500/500 [==============================] - 0s 145us/step - loss: -6.8233 - acc: 0.5720\n",
      "Epoch 106/150\n",
      "500/500 [==============================] - 0s 146us/step - loss: -6.8233 - acc: 0.5720\n",
      "Epoch 107/150\n",
      "500/500 [==============================] - 0s 159us/step - loss: -6.8233 - acc: 0.5720\n",
      "Epoch 108/150\n",
      "500/500 [==============================] - 0s 131us/step - loss: -6.8233 - acc: 0.5720\n",
      "Epoch 109/150\n",
      "500/500 [==============================] - 0s 95us/step - loss: -6.8233 - acc: 0.5720\n",
      "Epoch 110/150\n",
      "500/500 [==============================] - 0s 100us/step - loss: -6.8233 - acc: 0.5720\n",
      "Epoch 111/150\n",
      "500/500 [==============================] - 0s 130us/step - loss: -6.8233 - acc: 0.5720\n",
      "Epoch 112/150\n",
      "500/500 [==============================] - 0s 127us/step - loss: -6.8233 - acc: 0.5720\n",
      "Epoch 113/150\n",
      "500/500 [==============================] - 0s 142us/step - loss: -6.8233 - acc: 0.5720\n",
      "Epoch 114/150\n",
      "500/500 [==============================] - 0s 153us/step - loss: -6.8233 - acc: 0.5720\n",
      "Epoch 115/150\n",
      "500/500 [==============================] - 0s 125us/step - loss: -6.8233 - acc: 0.5720\n",
      "Epoch 116/150\n",
      "500/500 [==============================] - 0s 88us/step - loss: -6.8233 - acc: 0.5720\n",
      "Epoch 117/150\n",
      "500/500 [==============================] - 0s 85us/step - loss: -6.8220 - acc: 0.5720\n",
      "Epoch 118/150\n",
      "500/500 [==============================] - 0s 137us/step - loss: -6.8233 - acc: 0.5720\n",
      "Epoch 119/150\n",
      "500/500 [==============================] - 0s 128us/step - loss: -6.8233 - acc: 0.5720\n",
      "Epoch 120/150\n",
      "500/500 [==============================] - 0s 139us/step - loss: -6.8233 - acc: 0.5720\n",
      "Epoch 121/150\n",
      "500/500 [==============================] - 0s 145us/step - loss: -6.8233 - acc: 0.5720\n",
      "Epoch 122/150\n",
      "500/500 [==============================] - 0s 136us/step - loss: -6.8233 - acc: 0.5720\n",
      "Epoch 123/150\n",
      "500/500 [==============================] - 0s 100us/step - loss: -6.8233 - acc: 0.5720\n",
      "Epoch 124/150\n",
      "500/500 [==============================] - 0s 128us/step - loss: -6.8233 - acc: 0.5720\n",
      "Epoch 125/150\n",
      "500/500 [==============================] - 0s 146us/step - loss: -6.8233 - acc: 0.5720\n",
      "Epoch 126/150\n",
      "500/500 [==============================] - 0s 115us/step - loss: -6.8233 - acc: 0.5720\n",
      "Epoch 127/150\n",
      "500/500 [==============================] - 0s 123us/step - loss: -6.8233 - acc: 0.5720\n",
      "Epoch 128/150\n",
      "500/500 [==============================] - 0s 141us/step - loss: -6.8233 - acc: 0.5720\n",
      "Epoch 129/150\n",
      "500/500 [==============================] - 0s 121us/step - loss: -6.8233 - acc: 0.5720\n",
      "Epoch 130/150\n",
      "500/500 [==============================] - 0s 83us/step - loss: -6.8233 - acc: 0.5720\n",
      "Epoch 131/150\n",
      "500/500 [==============================] - 0s 99us/step - loss: -6.8233 - acc: 0.5720\n",
      "Epoch 132/150\n",
      "500/500 [==============================] - 0s 99us/step - loss: -6.8233 - acc: 0.5720\n",
      "Epoch 133/150\n",
      "500/500 [==============================] - 0s 105us/step - loss: -6.8233 - acc: 0.5720\n",
      "Epoch 134/150\n",
      "500/500 [==============================] - 0s 104us/step - loss: -6.8233 - acc: 0.5720\n",
      "Epoch 135/150\n",
      "500/500 [==============================] - 0s 90us/step - loss: -6.8233 - acc: 0.5720\n",
      "Epoch 136/150\n",
      "500/500 [==============================] - 0s 87us/step - loss: -6.8233 - acc: 0.5720\n",
      "Epoch 137/150\n",
      "500/500 [==============================] - 0s 108us/step - loss: -6.8233 - acc: 0.5720\n",
      "Epoch 138/150\n",
      "500/500 [==============================] - 0s 99us/step - loss: -6.8233 - acc: 0.5720\n",
      "Epoch 139/150\n",
      "500/500 [==============================] - 0s 87us/step - loss: -6.8233 - acc: 0.5720\n",
      "Epoch 140/150\n",
      "500/500 [==============================] - 0s 116us/step - loss: -6.8233 - acc: 0.5720\n",
      "Epoch 141/150\n",
      "500/500 [==============================] - 0s 88us/step - loss: -6.8233 - acc: 0.5720\n",
      "Epoch 142/150\n",
      "500/500 [==============================] - 0s 127us/step - loss: -6.8233 - acc: 0.5720\n",
      "Epoch 143/150\n",
      "500/500 [==============================] - 0s 140us/step - loss: -6.8233 - acc: 0.5720\n",
      "Epoch 144/150\n",
      "500/500 [==============================] - 0s 142us/step - loss: -6.8233 - acc: 0.5720\n",
      "Epoch 145/150\n",
      "500/500 [==============================] - 0s 142us/step - loss: -6.8233 - acc: 0.5720\n",
      "Epoch 146/150\n",
      "500/500 [==============================] - 0s 144us/step - loss: -6.8233 - acc: 0.5720\n",
      "Epoch 147/150\n",
      "500/500 [==============================] - 0s 106us/step - loss: -6.8233 - acc: 0.5720\n",
      "Epoch 148/150\n",
      "500/500 [==============================] - 0s 98us/step - loss: -6.8233 - acc: 0.5720\n",
      "Epoch 149/150\n",
      "500/500 [==============================] - 0s 90us/step - loss: -6.8233 - acc: 0.5720\n",
      "Epoch 150/150\n",
      "500/500 [==============================] - 0s 100us/step - loss: -6.8233 - acc: 0.5720\n",
      "500/500 [==============================] - 0s 67us/step\n",
      "\n",
      "acc: 57.20%\n"
     ]
    }
   ],
   "source": [
    "model.fit(new_x, new_y, epochs=150, batch_size=20)\n",
    "scores = model.evaluate(new_x, new_y)\n",
    "print(\"\\n%s: %.2f%%\" % (model.metrics_names[1], scores[1]*100))"
   ]
  },
  {
   "cell_type": "markdown",
   "metadata": {},
   "source": [
    "### Results\n",
    "\n",
    "We can see our SVM models did not work at all, but our RFC and keras models fitted with up to .57 accuracy"
   ]
  }
 ],
 "metadata": {
  "kernelspec": {
   "display_name": "Python 3",
   "language": "python",
   "name": "python3"
  },
  "language_info": {
   "codemirror_mode": {
    "name": "ipython",
    "version": 3
   },
   "file_extension": ".py",
   "mimetype": "text/x-python",
   "name": "python",
   "nbconvert_exporter": "python",
   "pygments_lexer": "ipython3",
   "version": "3.6.3"
  }
 },
 "nbformat": 4,
 "nbformat_minor": 2
}
